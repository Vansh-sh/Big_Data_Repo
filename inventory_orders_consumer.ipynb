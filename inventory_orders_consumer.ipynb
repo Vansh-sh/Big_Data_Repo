{
  "nbformat": 4,
  "nbformat_minor": 0,
  "metadata": {
    "colab": {
      "provenance": []
    },
    "kernelspec": {
      "name": "python3",
      "display_name": "Python 3"
    },
    "language_info": {
      "name": "python"
    }
  },
  "cells": [
    {
      "cell_type": "code",
      "execution_count": null,
      "metadata": {
        "id": "DGrUdvXqGtZf"
      },
      "outputs": [],
      "source": [
        "from confluent_kafka import Consumer, KafkaError\n",
        "\n",
        "# Confluent Cloud configuration\n",
        "bootstrap_servers = 'pkc-9q8rv.ap-south-2.aws.confluent.cloud:9092'\n",
        "api_key = 'O4GP3Y7WWONULYWH'\n",
        "api_secret = 'VA0UHM3At4gnfYiX4Qz5ITkBZNBs5SBhDM5IiqiO+peKVpVU3B83KOgI8uypwNFG'\n",
        "topic_inventory = 'inventory_orders'\n",
        "\n",
        "def main():\n",
        "    # Kafka consumer configuration for Confluent Cloud\n",
        "    consumer_config = {\n",
        "        'bootstrap.servers': bootstrap_servers,\n",
        "        'security.protocol': 'SASL_SSL',\n",
        "        'sasl.mechanism': 'PLAIN',\n",
        "        'sasl.username': api_key,\n",
        "        'sasl.password': api_secret,\n",
        "        'group.id': 'inventory-consumer-group',  # Use a unique consumer group ID\n",
        "        'auto.offset.reset': 'earliest'  # Start consuming from the earliest offset\n",
        "    }\n",
        "\n",
        "    # Create Kafka consumer\n",
        "    consumer = Consumer(consumer_config)\n",
        "\n",
        "    # Subscribe to the inventory orders topic\n",
        "    consumer.subscribe([topic_inventory])\n",
        "\n",
        "    try:\n",
        "        while True:\n",
        "            # Poll for messages\n",
        "            msg = consumer.poll(timeout=1.0)\n",
        "\n",
        "            if msg is None:\n",
        "                continue\n",
        "            if msg.error():\n",
        "                if msg.error().code() == KafkaError._PARTITION_EOF:\n",
        "                    # End of partition, continue polling\n",
        "                    continue\n",
        "                else:\n",
        "                    # Error occurred, handle it or raise an exception\n",
        "                    print(f'Error: {msg.error()}')\n",
        "                    break\n",
        "\n",
        "            # Process the message\n",
        "            message_value = msg.value().decode('utf-8')\n",
        "            message_data = json.loads(message_value)\n",
        "\n",
        "            # Check if the message type is 'inventory' and process accordingly\n",
        "            if message_data['type'] == 'inventory':\n",
        "                # Update inventory databases or systems\n",
        "                update_inventory(message_data)\n",
        "\n",
        "    except KeyboardInterrupt:\n",
        "        # Stop consumer on keyboard interrupt\n",
        "        consumer.close()\n",
        "\n",
        "def update_inventory(data):\n",
        "    # Implement your logic to update inventory databases or systems\n",
        "    # This is a placeholder function, replace it with your actual logic\n",
        "    print(f\"Updating inventory for order_id: {data['order_id']}\")\n",
        "\n",
        "if __name__ == \"__main__\":\n",
        "    main()\n"
      ]
    }
  ]
}
