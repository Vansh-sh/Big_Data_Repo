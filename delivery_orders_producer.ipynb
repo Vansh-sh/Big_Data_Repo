{
  "nbformat": 4,
  "nbformat_minor": 0,
  "metadata": {
    "colab": {
      "provenance": []
    },
    "kernelspec": {
      "name": "python3",
      "display_name": "Python 3"
    },
    "language_info": {
      "name": "python"
    }
  },
  "cells": [
    {
      "cell_type": "code",
      "execution_count": null,
      "metadata": {
        "id": "DGrUdvXqGtZf"
      },
      "outputs": [],
      "source": [
        "from confluent_kafka import Producer\n",
        "import json\n",
        "\n",
        "# Confluent Cloud configuration\n",
        "bootstrap_servers = 'pkc-9q8rv.ap-south-2.aws.confluent.cloud:9092'\n",
        "api_key = 'O4GP3Y7WWONULYWH'\n",
        "api_secret = 'VA0UHM3At4gnfYiX4Qz5ITkBZNBs5SBhDM5IiqiO+peKVpVU3B83KOgI8uypwNFG'\n",
        "topic_delivery = 'delivery_orders'\n",
        "\n",
        "def delivery_report(err, msg):\n",
        "    if err is not None:\n",
        "        print(f'Message delivery failed: {err}')\n",
        "    else:\n",
        "        print(f'Message delivered to {msg.topic()} [{msg.partition()}]')\n",
        "\n",
        "def main():\n",
        "    # Kafka producer configuration for Confluent Cloud\n",
        "    producer_config = {\n",
        "        'bootstrap.servers': bootstrap_servers,\n",
        "        'security.protocol': 'SASL_SSL',\n",
        "        'sasl.mechanism': 'PLAIN',\n",
        "        'sasl.username': api_key,\n",
        "        'sasl.password': api_secret\n",
        "    }\n",
        "\n",
        "    # Create Kafka producer\n",
        "    producer = Producer(producer_config)\n",
        "\n",
        "    # Read data from JSON file\n",
        "    with open('/content/data.json', 'r') as file:\n",
        "        json_data = json.load(file)\n",
        "\n",
        "    # Produce messages related to delivery orders\n",
        "    for data in json_data:\n",
        "        if data['type'] == 'delivery':\n",
        "            message = json.dumps(data)\n",
        "            producer.produce(topic_delivery, message.encode('utf-8'), callback=delivery_report)\n",
        "\n",
        "    # Wait for all messages to be delivered\n",
        "    producer.flush()\n",
        "\n",
        "if __name__ == \"__main__\":\n",
        "    main()\n"
      ]
    }
  ]
}